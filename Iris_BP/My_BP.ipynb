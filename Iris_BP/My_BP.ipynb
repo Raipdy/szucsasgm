{
 "cells": [
  {
   "cell_type": "code",
   "execution_count": 152,
   "id": "64b85348",
   "metadata": {},
   "outputs": [],
   "source": [
    "import pandas as pd\n",
    "import numpy as np\n",
    "from scipy.special import expit\n",
    "\n",
    "class Layer:\n",
    "    def __init__(self, n_in, n_out, atv_func = 'sigmoid'):\n",
    "        self.w = np.random.normal(0, 0.1, size = (n_in, n_out))\n",
    "        self.b = np.random.normal(0, 0.1, size = (1, n_out))\n",
    "        self.atv_func = atv_func\n",
    "        self.out = None\n",
    "        self.delta = None\n",
    "        self.func_dict = {'sigmoid' : Sigmoid}\n",
    "        \n",
    "    def Activate(self, _in):\n",
    "        _out = np.dot(_in, self.w) + self.b\n",
    "        self.out = self.func_dict[self.atv_func](x = _out)\n",
    "        return self.out\n",
    "\n",
    "class Inference:\n",
    "    def __init__(self, lr = 0.01):\n",
    "        self.layers = []\n",
    "        self.lr = lr\n",
    "        self.mse = []\n",
    "        self.train_acc = []\n",
    "        self.test_acc = []\n",
    "    \n",
    "    def add_layer(self, layer):\n",
    "        self.layers.append(layer)\n",
    "        \n",
    "    def feed_forward(self, x):\n",
    "        for layer in self.layers:\n",
    "            x = layer.Activate(x)\n",
    "        return x\n",
    "    \n",
    "    def Bp(self, x, y_pred, y_label):\n",
    "        for i in reversed(range(len(self.layers))):\n",
    "            layer = self.layers[i]\n",
    "            if layer == self.layers[-1]:\n",
    "                layer.delta = (y_label - y_pred) * d_act(layer.out, layer.atv_func)\n",
    "            else:\n",
    "                next_layer = self.layers[i + 1]\n",
    "                layer.delta = np.dot(next_layer.delta, next_layer.w.T) * d_act(layer.out, layer.atv_func)\n",
    "    \n",
    "        for i in range(len(self.layers)):\n",
    "            layer = self.layers[i]\n",
    "            layer.w += self.lr * (x if i == 0 else self.layers[i - 1].out).T.dot(layer.delta) / x.shape[0]\n",
    "            layer.b += self.lr * np.sum(layer.delta, axis = 0) / x.shape[0]\n",
    "    \n",
    "    def train(self, x_train, y_train, y_onehot, x_test, y_test, epochs):        \n",
    "        for i in range(epochs):\n",
    "            y_pred = self.feed_forward(x_train)\n",
    "            self.Bp(x_train, y_pred, y_onehot)\n",
    "            \n",
    "            y_train_pred = self.feed_forward(x_train)\n",
    "            self.mse.append(MSE(y_onehot, y_train_pred))\n",
    "            self.train_acc.append(self.acc(y_train_pred, y_train))\n",
    "            y_test_pred = self.feed_forward(x_test)\n",
    "            self.test_acc.append(self.acc(y_test_pred, y_test))\n",
    "            if(i % 100 ==0):         \n",
    "                print('Epochs: #%s, MSE: %.2f, Train_Acc: %.2f%%, Test_Acc: %.2f%%' % (i, MSE(y_onehot, y_train_pred), self.acc(y_train_pred, y_train) * 100, self.acc(y_test_pred, y_test) * 100))\n",
    "    \n",
    "    def acc(self, y_pred, y_label):        \n",
    "        y_pred = np.argmax(y_pred, axis=1)\n",
    "        return np.mean(y_pred == y_label)\n",
    "\n",
    "Sigmoid = lambda x : expit(x)\n",
    "\n",
    "\n",
    "# def Sigmoid(x):\n",
    "#     '''\n",
    "#     if(x >= 0):\n",
    "#         return 1/ (1 + np.exp(-x))\n",
    "#     else:\n",
    "#         return np.exp(x) / (1 + np.exp(x))\n",
    "#     '''\n",
    "#     return 1/ (1 + np.exp(-x))\n",
    "\n",
    "    \n",
    "def d_act(x, atv):\n",
    "    if atv == 'sigmoid':\n",
    "        return (1 - x) * x        \n",
    "\n",
    "def MSE(y_label, y_pred):\n",
    "    return np.mean(np.mean(np.square(y_label - y_pred), axis = 1), axis = 0)"
   ]
  },
  {
   "cell_type": "code",
   "execution_count": 162,
   "id": "64dad27c",
   "metadata": {},
   "outputs": [],
   "source": [
    "import pandas as pd\n",
    "import numpy as np\n",
    "import matplotlib.pyplot as plt\n",
    "\n",
    "df = pd.read_csv(\"./iris.csv\",header=None)\n",
    "x = np.array(df.iloc[:,2:6])\n",
    "y = np.array(df.iloc[:,1])\n",
    "y_onehot = np.zeros((x.shape[0], 3))\n",
    "y_onehot[np.arange(y.shape[0]), y] = 1\n",
    "\n",
    "length = x.shape[0]\n",
    "split = int(0.75*length)\n",
    "x_train = x[ : split]\n",
    "x_test = x[split+1 : ]\n",
    "y_train = y[ : split]\n",
    "y_test = y[split+1 : ]\n",
    "\n",
    "y_onehot = y_onehot[ : split]\n"
   ]
  },
  {
   "cell_type": "code",
   "execution_count": 192,
   "id": "fd1228e6",
   "metadata": {
    "scrolled": true
   },
   "outputs": [
    {
     "name": "stdout",
     "output_type": "stream",
     "text": [
      "Epochs: #0, MSE: 0.25, Train_Acc: 35.71%, Test_Acc: 27.03%\n",
      "Epochs: #100, MSE: 0.21, Train_Acc: 59.82%, Test_Acc: 56.76%\n",
      "Epochs: #200, MSE: 0.18, Train_Acc: 75.00%, Test_Acc: 67.57%\n",
      "Epochs: #300, MSE: 0.16, Train_Acc: 87.50%, Test_Acc: 81.08%\n",
      "Epochs: #400, MSE: 0.14, Train_Acc: 93.75%, Test_Acc: 86.49%\n",
      "Epochs: #500, MSE: 0.13, Train_Acc: 93.75%, Test_Acc: 94.59%\n",
      "Epochs: #600, MSE: 0.12, Train_Acc: 96.43%, Test_Acc: 97.30%\n",
      "Epochs: #700, MSE: 0.12, Train_Acc: 96.43%, Test_Acc: 97.30%\n",
      "Epochs: #800, MSE: 0.11, Train_Acc: 96.43%, Test_Acc: 97.30%\n",
      "Epochs: #900, MSE: 0.10, Train_Acc: 96.43%, Test_Acc: 97.30%\n",
      "Epochs: #1000, MSE: 0.10, Train_Acc: 96.43%, Test_Acc: 97.30%\n",
      "Epochs: #1100, MSE: 0.09, Train_Acc: 96.43%, Test_Acc: 97.30%\n",
      "Epochs: #1200, MSE: 0.09, Train_Acc: 96.43%, Test_Acc: 97.30%\n",
      "Epochs: #1300, MSE: 0.09, Train_Acc: 96.43%, Test_Acc: 97.30%\n",
      "Epochs: #1400, MSE: 0.08, Train_Acc: 96.43%, Test_Acc: 97.30%\n",
      "Epochs: #1500, MSE: 0.08, Train_Acc: 96.43%, Test_Acc: 97.30%\n",
      "Epochs: #1600, MSE: 0.08, Train_Acc: 96.43%, Test_Acc: 97.30%\n",
      "Epochs: #1700, MSE: 0.07, Train_Acc: 96.43%, Test_Acc: 97.30%\n",
      "Epochs: #1800, MSE: 0.07, Train_Acc: 96.43%, Test_Acc: 97.30%\n",
      "Epochs: #1900, MSE: 0.07, Train_Acc: 96.43%, Test_Acc: 97.30%\n",
      "Epochs: #2000, MSE: 0.07, Train_Acc: 96.43%, Test_Acc: 97.30%\n",
      "Epochs: #2100, MSE: 0.06, Train_Acc: 96.43%, Test_Acc: 97.30%\n",
      "Epochs: #2200, MSE: 0.06, Train_Acc: 96.43%, Test_Acc: 97.30%\n",
      "Epochs: #2300, MSE: 0.06, Train_Acc: 96.43%, Test_Acc: 97.30%\n",
      "Epochs: #2400, MSE: 0.06, Train_Acc: 96.43%, Test_Acc: 97.30%\n",
      "Epochs: #2500, MSE: 0.06, Train_Acc: 96.43%, Test_Acc: 97.30%\n",
      "Epochs: #2600, MSE: 0.05, Train_Acc: 96.43%, Test_Acc: 97.30%\n",
      "Epochs: #2700, MSE: 0.05, Train_Acc: 96.43%, Test_Acc: 97.30%\n",
      "Epochs: #2800, MSE: 0.05, Train_Acc: 96.43%, Test_Acc: 97.30%\n",
      "Epochs: #2900, MSE: 0.05, Train_Acc: 96.43%, Test_Acc: 97.30%\n",
      "Epochs: #3000, MSE: 0.05, Train_Acc: 96.43%, Test_Acc: 97.30%\n",
      "Epochs: #3100, MSE: 0.05, Train_Acc: 96.43%, Test_Acc: 97.30%\n",
      "Epochs: #3200, MSE: 0.05, Train_Acc: 96.43%, Test_Acc: 97.30%\n",
      "Epochs: #3300, MSE: 0.05, Train_Acc: 96.43%, Test_Acc: 97.30%\n",
      "Epochs: #3400, MSE: 0.05, Train_Acc: 96.43%, Test_Acc: 97.30%\n",
      "Epochs: #3500, MSE: 0.04, Train_Acc: 96.43%, Test_Acc: 97.30%\n",
      "Epochs: #3600, MSE: 0.04, Train_Acc: 96.43%, Test_Acc: 97.30%\n",
      "Epochs: #3700, MSE: 0.04, Train_Acc: 96.43%, Test_Acc: 97.30%\n",
      "Epochs: #3800, MSE: 0.04, Train_Acc: 96.43%, Test_Acc: 97.30%\n",
      "Epochs: #3900, MSE: 0.04, Train_Acc: 96.43%, Test_Acc: 97.30%\n",
      "Epochs: #4000, MSE: 0.04, Train_Acc: 96.43%, Test_Acc: 97.30%\n",
      "Epochs: #4100, MSE: 0.04, Train_Acc: 96.43%, Test_Acc: 97.30%\n",
      "Epochs: #4200, MSE: 0.04, Train_Acc: 96.43%, Test_Acc: 97.30%\n",
      "Epochs: #4300, MSE: 0.04, Train_Acc: 96.43%, Test_Acc: 97.30%\n",
      "Epochs: #4400, MSE: 0.04, Train_Acc: 96.43%, Test_Acc: 97.30%\n",
      "Epochs: #4500, MSE: 0.04, Train_Acc: 96.43%, Test_Acc: 97.30%\n",
      "Epochs: #4600, MSE: 0.04, Train_Acc: 96.43%, Test_Acc: 97.30%\n",
      "Epochs: #4700, MSE: 0.04, Train_Acc: 96.43%, Test_Acc: 97.30%\n",
      "Epochs: #4800, MSE: 0.04, Train_Acc: 96.43%, Test_Acc: 97.30%\n",
      "Epochs: #4900, MSE: 0.04, Train_Acc: 96.43%, Test_Acc: 97.30%\n"
     ]
    },
    {
     "data": {
      "image/png": "[encoded data removed]",
      "text/plain": [
       "<Figure size 432x288 with 1 Axes>"
      ]
     },
     "metadata": {
      "needs_background": "light"
     },
     "output_type": "display_data"
    },
    {
     "data": {
      "image/png": "[encoded data removed]",
      "text/plain": [
       "<Figure size 432x288 with 1 Axes>"
      ]
     },
     "metadata": {
      "needs_background": "light"
     },
     "output_type": "display_data"
    }
   ],
   "source": [
    "np.random.seed(20)\n",
    "\n",
    "nn = Inference(lr = 0.05)\n",
    "nn.add_layer(Layer(4, 5))\n",
    "nn.add_layer(Layer(5, 3))\n",
    "\n",
    "nn.train(x_train, y_train, y_onehot, x_test, y_test, 5000)\n",
    "plt.plot(nn.mse)\n",
    "plt.xlabel('epochs')\n",
    "plt.ylabel('Mean Square Error')\n",
    "plt.show()\n",
    "plt.plot(nn.train_acc, label = 'train_acc')\n",
    "plt.plot(nn.test_acc, label = 'test_acc')\n",
    "plt.xlabel('epochs')\n",
    "plt.ylabel('acc')\n",
    "plt.legend()\n",
    "plt.show()"
   ]
  },
  {
   "cell_type": "code",
   "execution_count": 193,
   "id": "8cfb838c",
   "metadata": {},
   "outputs": [
    {
     "name": "stdout",
     "output_type": "stream",
     "text": [
      "[[ 0.2669806   0.02583629  0.25565906 -1.39178929  0.10014447]\n",
      " [ 0.44255021  0.13347482  0.37962975 -0.78153422  0.45475339]\n",
      " [-0.26720925  0.04426243 -0.39441971  0.70755875 -0.34975986]\n",
      " [-0.10444113  0.13317397 -0.00618486  0.66671308 -0.04388396]] [[-0.02254574 -0.31614746  0.10471034  0.22616619 -0.02957901]]\n",
      "[[-1.61905242  0.63263458  1.08621474]\n",
      " [ 0.63064333 -0.28959094 -2.10368196]\n",
      " [-1.5489799   0.64126642  1.01928148]\n",
      " [ 1.1187308  -3.44387389  2.42846308]\n",
      " [-1.81745847  0.73282522  0.86160951]] [[ 0.59401941 -0.05872919 -2.0847781 ]]\n"
     ]
    }
   ],
   "source": [
    "for layer in nn.layers:\n",
    "    print(layer.w, layer.b)"
   ]
  },
  {
   "cell_type": "code",
   "execution_count": null,
   "id": "37353343",
   "metadata": {},
   "outputs": [],
   "source": []
  }
 ],
 "metadata": {
  "kernelspec": {
   "display_name": "Python 3",
   "language": "python",
   "name": "python3"
  },
  "language_info": {
   "codemirror_mode": {
    "name": "ipython",
    "version": 3
   },
   "file_extension": ".py",
   "mimetype": "text/x-python",
   "name": "python",
   "nbconvert_exporter": "python",
   "pygments_lexer": "ipython3",
   "version": "3.8.8"
  }
 },
 "nbformat": 4,
 "nbformat_minor": 5
}
