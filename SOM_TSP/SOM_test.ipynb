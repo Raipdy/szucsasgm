{
 "cells": [
  {
   "cell_type": "code",
   "execution_count": 536,
   "id": "abc850a9",
   "metadata": {
    "scrolled": true
   },
   "outputs": [
    {
     "data": {
      "text/plain": [
       "69.46941773183363"
      ]
     },
     "execution_count": 536,
     "metadata": {},
     "output_type": "execute_result"
    }
   ],
   "source": [
    "import numpy as np\n",
    "import pandas as pd\n",
    "import random\n",
    "import time\n",
    "\n",
    "df = pd.read_table(\"./eil101.tsp.txt\", sep=' ', header=None)\n",
    "tour = pd.read_table(\"./eil101.tour.txt\", header=None)\n",
    "tour -= 1\n",
    "tsp = df.copy()\n",
    "tsp = tsp.reindex(tour.iloc[:, 0])\n",
    "np.sum(np.linalg.norm(tsp.iloc[:, 1:3] - np.roll(tsp.iloc[:, 1:3], 1, axis=0)))"
   ]
  },
  {
   "cell_type": "code",
   "execution_count": 538,
   "id": "d469a5b1",
   "metadata": {},
   "outputs": [],
   "source": [
    "class SOM:\n",
    "    def __init__(self, cities, lr, it, k):       \n",
    "        self.lr = lr\n",
    "        self.it = it\n",
    "        self.num = cities.shape[0]*8\n",
    "        ratio = np.minimum(np.array((cities.iloc[:, 0].max() - cities.iloc[:, 0].min()) / (cities.iloc[:, 1].max() - cities.iloc[:, 1].min())), 1)\n",
    "        norm = cities.apply(lambda c: (c - c.min()) / (c.max() - c.min()))\n",
    "        self.cities = norm.apply(lambda p: (ratio * p), axis=1)\n",
    "        self.min_dist = get_cities_min_dist(self.cities)\n",
    "        self.neuron = np.random.rand(self.num, 2)\n",
    "        self.k = k\n",
    "        self.interval = [0,]\n",
    "        self.neuron_list = np.arange(self.num - 1)\n",
    "        if k > 1:\n",
    "            for i in range(k - 1):\n",
    "                self.interval.append(random.choice(self.neuron_list))\n",
    "            self.interval.append(self.num - 1)\n",
    "            self.interval.sort()\n",
    "\n",
    "            \n",
    "    def iterate(self):\n",
    "        for i in range(self.it):\n",
    "            if i % 1000 == 0:\n",
    "                print('Iteration %d / %d' % (i, self.it))\n",
    "            city = self.cities.sample(1).values\n",
    "            winner_idx = get_closest_idx(self.neuron, city)\n",
    "            if(np.linalg.norm(self.neuron[winner_idx] - city) <= 0.3*self.min_dist):\n",
    "                self.neuron[winner_idx] = city\n",
    "            neig_scope = get_neig_scope(winner_idx, self.num // 10, self.neuron.shape[0])           \n",
    "            self.neuron += neig_scope[:, np.newaxis] * self.lr * (city - self.neuron)\n",
    "            self.num *= 0.9997\n",
    "            self.lr *= 0.99997\n",
    "            if self.num < 1:\n",
    "                print('Radius has completely decayed, finishing execution','at {} iterations'.format(i))\n",
    "                break\n",
    "            if self.lr < 0.001:\n",
    "                print('Learning rate has completely decayed, finishing execution','at {} iterations'.format(i))\n",
    "                break\n",
    "            \n",
    "        print('Done!')\n",
    "        \n",
    "    def iterate_mul(self): \n",
    "        for i in range(self.it):\n",
    "            if i % 1000 == 0:\n",
    "                print('Iteration %d / %d' % (i, self.it))\n",
    "            city = self.cities.sample(1).values\n",
    "            winner_idx = get_closest_idx(self.neuron, city)\n",
    "            if(np.linalg.norm(self.neuron[winner_idx] - city) <= 0.3*self.min_dist):\n",
    "                self.neuron[winner_idx] = city\n",
    "            idx = self.get_salesman(winner_idx)\n",
    "            if idx == 1:\n",
    "                neig_scope = get_neig_scope_mul(winner_idx, self.num // 10, 0,\n",
    "                                                self.interval[idx] + 1)\n",
    "                self.neuron[0:self.interval[idx] + 1, :] += neig_scope[:, np.newaxis] * self.lr * (city - self.neuron[0:self.interval[idx] + 1, :])\n",
    "                \n",
    "            else:\n",
    "                neig_scope = get_neig_scope_mul(winner_idx, self.num // 10,\n",
    "                                                self.interval[idx - 1] + 1, self.interval[idx] + 1)\n",
    "                self.neuron[(self.interval[idx - 1] + 1):(self.interval[idx] + 1), :] += neig_scope[:, np.newaxis] * self.lr * (city - self.neuron[(self.interval[idx - 1] + 1):(self.interval[idx] + 1), :])\n",
    "            self.num *= 0.9997\n",
    "            self.lr *= 0.99997\n",
    "            if self.num < 1:\n",
    "                print('Radius has completely decayed, finishing execution','at {} iterations'.format(i))\n",
    "                break\n",
    "            if self.lr < 0.001:\n",
    "                print('Learning rate has completely decayed, finishing execution','at {} iterations'.format(i))\n",
    "                break\n",
    "            \n",
    "    def get_salesman(self, winner_idx):\n",
    "        for i, itv in enumerate(self.interval):\n",
    "            if i == 0:\n",
    "                continue\n",
    "            if winner_idx <= itv:\n",
    "                return i\n",
    "            \n",
    "    def get_route(self):\n",
    "        self.cities['winner'] = self.cities.apply(lambda c: \n",
    "                                                  get_closest_idx\n",
    "                                                  (self.neuron, c),\n",
    "                                                  axis=1,\n",
    "                                                  raw=True)\n",
    "        return self.cities.sort_values('winner').index\n",
    "        \n",
    "def get_closest_idx(candi, ori):\n",
    "    return np.linalg.norm(candi - ori, axis=1).argmin()\n",
    "\n",
    "\n",
    "def get_neig_scope(winner, variance, num):\n",
    "    diff = np.absolute(winner - np.arange(num))\n",
    "    dist = np.minimum(diff, num - diff)\n",
    "    return np.exp(-(dist*dist) / (2*variance*variance + 0.000001))\n",
    "\n",
    "def get_neig_scope_mul(winner, variance, offset, end):\n",
    "    diff = np.absolute(winner - np.arange(offset, end))\n",
    "    dist = np.minimum(diff, end - offset - diff)\n",
    "    return np.exp(-(dist*dist) / (2*variance*variance + 0.000001))\n",
    "\n",
    "def get_cities_min_dist(cities):\n",
    "    dist = []\n",
    "    for i in range(cities.shape[0]):\n",
    "        for j in range(i+1, cities.shape[0]):\n",
    "            dist.append(np.linalg.norm(cities.iloc[i] - cities.iloc[j]))\n",
    "    return np.min(dist)\n",
    "\n"
   ]
  },
  {
   "cell_type": "code",
   "execution_count": 549,
   "id": "d2427666",
   "metadata": {
    "scrolled": true
   },
   "outputs": [
    {
     "name": "stdout",
     "output_type": "stream",
     "text": [
      "Iteration 0 / 50000\n",
      "Iteration 1000 / 50000\n",
      "Iteration 2000 / 50000\n",
      "Iteration 3000 / 50000\n",
      "Iteration 4000 / 50000\n",
      "Iteration 5000 / 50000\n",
      "Iteration 6000 / 50000\n",
      "Iteration 7000 / 50000\n",
      "Iteration 8000 / 50000\n",
      "Iteration 9000 / 50000\n",
      "Iteration 10000 / 50000\n",
      "Iteration 11000 / 50000\n",
      "Iteration 12000 / 50000\n",
      "Iteration 13000 / 50000\n",
      "Iteration 14000 / 50000\n",
      "Iteration 15000 / 50000\n",
      "Iteration 16000 / 50000\n",
      "Iteration 17000 / 50000\n",
      "Iteration 18000 / 50000\n",
      "Iteration 19000 / 50000\n",
      "Iteration 20000 / 50000\n",
      "Iteration 21000 / 50000\n",
      "Iteration 22000 / 50000\n",
      "Radius has completely decayed, finishing execution at 22311 iterations\n",
      "Done!\n",
      "7.983021199994255\n"
     ]
    }
   ],
   "source": [
    "start = time.perf_counter()\n",
    "SOM_instance = SOM(df.iloc[:, 1:3], 0.8, 50000, 1)\n",
    "if(SOM_instance.k > 1):\n",
    "    SOM_instance.iterate_mul()\n",
    "else:\n",
    "    SOM_instance.iterate()\n",
    "print('%s' % (time.perf_counter() - start))"
   ]
  },
  {
   "cell_type": "code",
   "execution_count": 550,
   "id": "325fda97",
   "metadata": {},
   "outputs": [
    {
     "data": {
      "image/png": "[encoded data removed]",
      "text/plain": [
       "<Figure size 360x360 with 1 Axes>"
      ]
     },
     "metadata": {
      "needs_background": "light"
     },
     "output_type": "display_data"
    }
   ],
   "source": [
    "import matplotlib.pyplot as plt\n",
    "import matplotlib as mpl\n",
    "\n",
    "colors = ['gold','darkgreen', '#0063ba', 'brown', 'olive', 'orange', 'violet', 'dimgray']\n",
    "fig = plt.figure(figsize=(5, 5), frameon = False)\n",
    "axis = fig.add_axes([0,0,1,1])\n",
    "\n",
    "axis.set_aspect('equal', adjustable='datalim')\n",
    "plt.axis('off')\n",
    "\n",
    "axis.scatter(SOM_instance.cities.iloc[:, 0], SOM_instance.cities.iloc[:, 1], color='red', s=8)\n",
    "if SOM_instance.k > 1:\n",
    "    for i in range(1, SOM_instance.k + 1):\n",
    "        if i == 1:\n",
    "            axis.plot(SOM_instance.neuron[0:SOM_instance.interval[i] + 1, 0], SOM_instance.neuron[0:SOM_instance.interval[i] + 1, 1], 'r.', ls='-', color=colors[i - 1], markersize=2)\n",
    "        else:\n",
    "            axis.plot(SOM_instance.neuron[(SOM_instance.interval[i - 1] + 1):(SOM_instance.interval[i] + 1), 0], SOM_instance.neuron[(SOM_instance.interval[i - 1] + 1):(SOM_instance.interval[i] + 1), 1], 'r.', ls='-', color=colors[i - 1], markersize=2)\n",
    "else:\n",
    "    axis.plot(SOM_instance.neuron[:, 0], SOM_instance.neuron[:, 1], 'r.', ls='-', color='#0063ba', markersize=2)\n",
    "\n"
   ]
  },
  {
   "cell_type": "code",
   "execution_count": 541,
   "id": "dcd1b210",
   "metadata": {
    "scrolled": true
   },
   "outputs": [],
   "source": [
    "# 以下是计算实际的最短路径\n",
    "cities = df.copy()\n",
    "cities = cities.reindex(SOM_instance.get_route())\n",
    "# np.sum(np.linalg.norm(df.iloc[:, 1:3] - np.roll(df.iloc[:, 1:3], 1, axis=0)))"
   ]
  },
  {
   "cell_type": "code",
   "execution_count": 530,
   "id": "9e31b127",
   "metadata": {},
   "outputs": [],
   "source": [
    "shortest_route = 0\n",
    "if SOM_instance.k == 1:   \n",
    "    shortest_route = np.sum(np.linalg.norm(cities.iloc[:, 1:3] - np.roll(cities.iloc[:, 1:3], 1, axis=0)))\n",
    "else:    \n",
    "    for i in range(1, SOM_instance.k + 1):\n",
    "        shortest_route += np.sum(np.linalg.norm\n",
    "                                 (cities.iloc[SOM_instance.interval[i-1]:SOM_instance.interval[i], 1:3]\n",
    "                                  - np.roll(cities.iloc[SOM_instance.interval[i-1]:SOM_instance.interval[i], 1:3], 1, axis=0)))"
   ]
  },
  {
   "cell_type": "code",
   "execution_count": 531,
   "id": "d7f759f3",
   "metadata": {},
   "outputs": [
    {
     "data": {
      "text/plain": [
       "738.7083321582342"
      ]
     },
     "execution_count": 531,
     "metadata": {},
     "output_type": "execute_result"
    }
   ],
   "source": [
    "shortest_route"
   ]
  },
  {
   "cell_type": "code",
   "execution_count": null,
   "id": "b3c05bd8",
   "metadata": {},
   "outputs": [],
   "source": []
  }
 ],
 "metadata": {
  "kernelspec": {
   "display_name": "Python 3",
   "language": "python",
   "name": "python3"
  },
  "language_info": {
   "codemirror_mode": {
    "name": "ipython",
    "version": 3
   },
   "file_extension": ".py",
   "mimetype": "text/x-python",
   "name": "python",
   "nbconvert_exporter": "python",
   "pygments_lexer": "ipython3",
   "version": "3.8.8"
  }
 },
 "nbformat": 4,
 "nbformat_minor": 5
}
