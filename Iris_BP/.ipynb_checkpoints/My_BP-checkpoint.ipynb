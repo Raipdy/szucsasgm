{
 "cells": [
  {
   "cell_type": "code",
   "execution_count": 49,
   "id": "d02d906b",
   "metadata": {},
   "outputs": [],
   "source": [
    "import pandas as pd\n",
    "import numpy as np\n",
    "\n",
    "class Layer:\n",
    "    def __init__(self, n_in, n_out, atv_func = 'sigmoid'):\n",
    "        self.w = np.random.normal(0, 0.1, size = (n_in, n_out))\n",
    "        self.b = np.random.normal(0, 0.1, size = (1, n_out))\n",
    "        self.atv_func = atv_func\n",
    "        self.out = None\n",
    "        self.delta = None\n",
    "        self.func_dict = {'sigmoid' : Sigmoid}\n",
    "        \n",
    "    def Activate(self, _in):\n",
    "        _out = np.dot(_in, self.w) + self.b\n",
    "        self.out = self.func_dict[self.atv_func](x = _out)\n",
    "        return self.out\n",
    "\n",
    "class Inference:\n",
    "    def __init__(self, lr = 0.01):\n",
    "        self.layers = []\n",
    "        self.lr = lr\n",
    "    \n",
    "    def add_layer(self, layer):\n",
    "        self.layers.append(layer)\n",
    "        \n",
    "    def feed_forward(self, x):\n",
    "        for layer in self.layers:\n",
    "            x = layer.Activate(x)\n",
    "        return x\n",
    "    \n",
    "    def Bp(self, x, y_pred, y_label):\n",
    "        for i in reversed(range(len(self.layers))):\n",
    "            layer = self.layers[i]\n",
    "            if layer == self.layers[-1]:\n",
    "                layer.delta = (y_label - y_pred) * d_act(layer.out, layer.atv_func)\n",
    "            else:\n",
    "                next_layer = self.layers[i + 1]\n",
    "                layer.delta = np.dot(next_layer.w, next_layer.delta) * d_act(layer.out, layer.atv_func)\n",
    "    \n",
    "        for i in range(len(self.layers)):\n",
    "            layer = self.layers[i]\n",
    "            layer.w += self.lr * (x if i == 0 else self.layers[i - 1].Activate).T.dot(layer.delta) / layer.n_in\n",
    "            layer.b += self.lr * np.sum(layer.delta, axis = 0) /layer.n_in\n",
    "    \n",
    "    def train(self, x_train, y_train, y_onehot, epochs):\n",
    "        for i in range(epochs):\n",
    "            y_pred = self.feed_forward(x_train)\n",
    "            self.Bp(x_train, y_pred, y_onehot)\n",
    "            if(i % 10 ==0):\n",
    "                y = self.feed_forward(x_train)\n",
    "                print('Epochs: #%s, MSE: %.2f, Acc: %.2f%%' % (i, MSE(y_onehot, y), self.acc(y, y_train) * 100))\n",
    "    \n",
    "    def acc(self, y_pred, y_label):        \n",
    "        y_pred = np.argmax(y_pred, axis=1)\n",
    "        return np.mean(y_pred == y_label)\n",
    "    \n",
    "        \n",
    "def Sigmoid(x):\n",
    "    return 1/ (1 + np.exp(-x))\n",
    "    \n",
    "def d_act(x, atv):\n",
    "    if atv == 'sigmoid':\n",
    "        return Sigmoid(x) * Sigmoid(1 - x)        \n",
    "\n",
    "def MSE(y_label, y_pred):\n",
    "    return np.mean(np.mean(np.square(y_label - y_pred), axis = 1), axis = 0)"
   ]
  },
  {
   "cell_type": "code",
   "execution_count": 37,
   "id": "1f1e28bf",
   "metadata": {},
   "outputs": [
    {
     "name": "stdout",
     "output_type": "stream",
     "text": [
      "[0 1 1 0 1 1 2 2 1 2 0 1 0 0 2 1 2 0 0 1 0 0 2 2 0 1 0 1 2 0 1 2 0 2 1 2 1\n",
      " 1 2 2 2 1 1 2 1 0 0 2 0 2 1 1 2 2 2 1 1 1 0 2 1 1 2 1 0 0 1 1 0 0 2 0 0 2\n",
      " 1 2 0 1 2 0 0 2 2 0 2 0 2 0 0 2 2 0 1 2 2 0 0 2 0 1 2 0 2 2 1 0 1 1 1 2 2\n",
      " 0]\n"
     ]
    }
   ],
   "source": [
    "import pandas as pd\n",
    "import numpy as np\n",
    "\n",
    "df = pd.read_csv(\"./iris.csv\",header=None)\n",
    "x = np.array(df.iloc[:,2:6])\n",
    "y = np.array(df.iloc[:,1])\n",
    "y_onehot = np.zeros((x.shape[0], 3))\n",
    "y_onehot[np.arange(y.shape[0]), y] = 1\n",
    "\n",
    "length = x.shape[0]\n",
    "split = int(0.75*length)\n",
    "x_train = x[ : split]\n",
    "x_test = x[split+1 : ]\n",
    "y_train = y[ : split]\n",
    "y_test = y[split+1 : ]\n",
    "\n",
    "y_onehot = y_onehot[ : split]\n"
   ]
  },
  {
   "cell_type": "code",
   "execution_count": 50,
   "id": "6fe06b39",
   "metadata": {},
   "outputs": [
    {
     "ename": "ValueError",
     "evalue": "shapes (8,3) and (112,3) not aligned: 3 (dim 1) != 112 (dim 0)",
     "output_type": "error",
     "traceback": [
      "\u001b[1;31m---------------------------------------------------------------------------\u001b[0m",
      "\u001b[1;31mValueError\u001b[0m                                Traceback (most recent call last)",
      "\u001b[1;32m<ipython-input-50-213c5614b031>\u001b[0m in \u001b[0;36m<module>\u001b[1;34m\u001b[0m\n\u001b[0;32m      3\u001b[0m \u001b[0mnn\u001b[0m\u001b[1;33m.\u001b[0m\u001b[0madd_layer\u001b[0m\u001b[1;33m(\u001b[0m\u001b[0mLayer\u001b[0m\u001b[1;33m(\u001b[0m\u001b[1;36m8\u001b[0m\u001b[1;33m,\u001b[0m \u001b[1;36m3\u001b[0m\u001b[1;33m)\u001b[0m\u001b[1;33m)\u001b[0m\u001b[1;33m\u001b[0m\u001b[1;33m\u001b[0m\u001b[0m\n\u001b[0;32m      4\u001b[0m \u001b[1;33m\u001b[0m\u001b[0m\n\u001b[1;32m----> 5\u001b[1;33m \u001b[0mnn\u001b[0m\u001b[1;33m.\u001b[0m\u001b[0mtrain\u001b[0m\u001b[1;33m(\u001b[0m\u001b[0mx_train\u001b[0m\u001b[1;33m,\u001b[0m \u001b[0my_train\u001b[0m\u001b[1;33m,\u001b[0m \u001b[0my_onehot\u001b[0m\u001b[1;33m,\u001b[0m \u001b[1;36m100\u001b[0m\u001b[1;33m)\u001b[0m\u001b[1;33m\u001b[0m\u001b[1;33m\u001b[0m\u001b[0m\n\u001b[0m",
      "\u001b[1;32m<ipython-input-49-49fd37539c27>\u001b[0m in \u001b[0;36mtrain\u001b[1;34m(self, x_train, y_train, y_onehot, epochs)\u001b[0m\n\u001b[0;32m     46\u001b[0m         \u001b[1;32mfor\u001b[0m \u001b[0mi\u001b[0m \u001b[1;32min\u001b[0m \u001b[0mrange\u001b[0m\u001b[1;33m(\u001b[0m\u001b[0mepochs\u001b[0m\u001b[1;33m)\u001b[0m\u001b[1;33m:\u001b[0m\u001b[1;33m\u001b[0m\u001b[1;33m\u001b[0m\u001b[0m\n\u001b[0;32m     47\u001b[0m             \u001b[0my_pred\u001b[0m \u001b[1;33m=\u001b[0m \u001b[0mself\u001b[0m\u001b[1;33m.\u001b[0m\u001b[0mfeed_forward\u001b[0m\u001b[1;33m(\u001b[0m\u001b[0mx_train\u001b[0m\u001b[1;33m)\u001b[0m\u001b[1;33m\u001b[0m\u001b[1;33m\u001b[0m\u001b[0m\n\u001b[1;32m---> 48\u001b[1;33m             \u001b[0mself\u001b[0m\u001b[1;33m.\u001b[0m\u001b[0mBp\u001b[0m\u001b[1;33m(\u001b[0m\u001b[0mx_train\u001b[0m\u001b[1;33m,\u001b[0m \u001b[0my_pred\u001b[0m\u001b[1;33m,\u001b[0m \u001b[0my_onehot\u001b[0m\u001b[1;33m)\u001b[0m\u001b[1;33m\u001b[0m\u001b[1;33m\u001b[0m\u001b[0m\n\u001b[0m\u001b[0;32m     49\u001b[0m             \u001b[1;32mif\u001b[0m\u001b[1;33m(\u001b[0m\u001b[0mi\u001b[0m \u001b[1;33m%\u001b[0m \u001b[1;36m10\u001b[0m \u001b[1;33m==\u001b[0m\u001b[1;36m0\u001b[0m\u001b[1;33m)\u001b[0m\u001b[1;33m:\u001b[0m\u001b[1;33m\u001b[0m\u001b[1;33m\u001b[0m\u001b[0m\n\u001b[0;32m     50\u001b[0m                 \u001b[0my\u001b[0m \u001b[1;33m=\u001b[0m \u001b[0mself\u001b[0m\u001b[1;33m.\u001b[0m\u001b[0mfeed_forward\u001b[0m\u001b[1;33m(\u001b[0m\u001b[0mx_train\u001b[0m\u001b[1;33m)\u001b[0m\u001b[1;33m\u001b[0m\u001b[1;33m\u001b[0m\u001b[0m\n",
      "\u001b[1;32m<ipython-input-49-49fd37539c27>\u001b[0m in \u001b[0;36mBp\u001b[1;34m(self, x, y_pred, y_label)\u001b[0m\n\u001b[0;32m     36\u001b[0m             \u001b[1;32melse\u001b[0m\u001b[1;33m:\u001b[0m\u001b[1;33m\u001b[0m\u001b[1;33m\u001b[0m\u001b[0m\n\u001b[0;32m     37\u001b[0m                 \u001b[0mnext_layer\u001b[0m \u001b[1;33m=\u001b[0m \u001b[0mself\u001b[0m\u001b[1;33m.\u001b[0m\u001b[0mlayers\u001b[0m\u001b[1;33m[\u001b[0m\u001b[0mi\u001b[0m \u001b[1;33m+\u001b[0m \u001b[1;36m1\u001b[0m\u001b[1;33m]\u001b[0m\u001b[1;33m\u001b[0m\u001b[1;33m\u001b[0m\u001b[0m\n\u001b[1;32m---> 38\u001b[1;33m                 \u001b[0mlayer\u001b[0m\u001b[1;33m.\u001b[0m\u001b[0mdelta\u001b[0m \u001b[1;33m=\u001b[0m \u001b[0mnp\u001b[0m\u001b[1;33m.\u001b[0m\u001b[0mdot\u001b[0m\u001b[1;33m(\u001b[0m\u001b[0mnext_layer\u001b[0m\u001b[1;33m.\u001b[0m\u001b[0mw\u001b[0m\u001b[1;33m,\u001b[0m \u001b[0mnext_layer\u001b[0m\u001b[1;33m.\u001b[0m\u001b[0mdelta\u001b[0m\u001b[1;33m)\u001b[0m \u001b[1;33m*\u001b[0m \u001b[0md_act\u001b[0m\u001b[1;33m(\u001b[0m\u001b[0mlayer\u001b[0m\u001b[1;33m.\u001b[0m\u001b[0mout\u001b[0m\u001b[1;33m,\u001b[0m \u001b[0mlayer\u001b[0m\u001b[1;33m.\u001b[0m\u001b[0matv_func\u001b[0m\u001b[1;33m)\u001b[0m\u001b[1;33m\u001b[0m\u001b[1;33m\u001b[0m\u001b[0m\n\u001b[0m\u001b[0;32m     39\u001b[0m \u001b[1;33m\u001b[0m\u001b[0m\n\u001b[0;32m     40\u001b[0m         \u001b[1;32mfor\u001b[0m \u001b[0mi\u001b[0m \u001b[1;32min\u001b[0m \u001b[0mrange\u001b[0m\u001b[1;33m(\u001b[0m\u001b[0mlen\u001b[0m\u001b[1;33m(\u001b[0m\u001b[0mself\u001b[0m\u001b[1;33m.\u001b[0m\u001b[0mlayers\u001b[0m\u001b[1;33m)\u001b[0m\u001b[1;33m)\u001b[0m\u001b[1;33m:\u001b[0m\u001b[1;33m\u001b[0m\u001b[1;33m\u001b[0m\u001b[0m\n",
      "\u001b[1;32m<__array_function__ internals>\u001b[0m in \u001b[0;36mdot\u001b[1;34m(*args, **kwargs)\u001b[0m\n",
      "\u001b[1;31mValueError\u001b[0m: shapes (8,3) and (112,3) not aligned: 3 (dim 1) != 112 (dim 0)"
     ]
    }
   ],
   "source": [
    "nn = Inference(lr = 0.01)\n",
    "nn.add_layer(Layer(4, 8))\n",
    "nn.add_layer(Layer(8, 3))\n",
    "\n",
    "nn.train(x_train, y_train, y_onehot, 100)"
   ]
  },
  {
   "cell_type": "code",
   "execution_count": null,
   "id": "78ee8f77",
   "metadata": {},
   "outputs": [],
   "source": []
  }
 ],
 "metadata": {
  "kernelspec": {
   "display_name": "Python 3",
   "language": "python",
   "name": "python3"
  },
  "language_info": {
   "codemirror_mode": {
    "name": "ipython",
    "version": 3
   },
   "file_extension": ".py",
   "mimetype": "text/x-python",
   "name": "python",
   "nbconvert_exporter": "python",
   "pygments_lexer": "ipython3",
   "version": "3.8.8"
  }
 },
 "nbformat": 4,
 "nbformat_minor": 5
}
